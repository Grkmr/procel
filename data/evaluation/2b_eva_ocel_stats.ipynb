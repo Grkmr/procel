{
 "cells": [
  {
   "cell_type": "markdown",
   "metadata": {},
   "source": [
    "# Import all OCELs"
   ]
  },
  {
   "cell_type": "code",
   "execution_count": null,
   "metadata": {},
   "outputs": [],
   "source": [
    "import os\n",
    "import sys\n",
    "from pathlib import Path\n",
    "\n",
    "cwd = Path(os.getcwd())\n",
    "if cwd.name != \"backend\":\n",
    "    repo = cwd.parent.parent\n",
    "    sys.path.append(str(cwd))\n",
    "    sys.path.append(str(repo))\n",
    "    sys.path.append(str(repo / \"drafts\"))\n",
    "    os.chdir(repo / \"src\" / \"backend\")\n",
    "\n",
    "from data.evaluation.src.jupyter_utils.preamble import *\n",
    "from importlib import reload\n",
    "\n",
    "import src.eva_util as eva\n",
    "\n",
    "OCEL_KEYS = [\n",
    "    \"containerLogistics\",\n",
    "    \"orderManagementWithDistances\",\n",
    "    \"p2p\",\n",
    "    \"hinge\",\n",
    "]\n",
    "\n",
    "OCELS = {}\n",
    "\n",
    "for OCEL_KEY in OCEL_KEYS:\n",
    "    if OCEL_KEY == \"containerLogistics\":\n",
    "        from data.evaluation.src.ocel_config.container_logistics import *\n",
    "    elif OCEL_KEY == \"orderManagementWithDistances\":\n",
    "        from data.evaluation.src.ocel_config.order_management_with_distances import *\n",
    "    elif OCEL_KEY == \"p2p\":\n",
    "        from data.evaluation.src.ocel_config.p2p import *\n",
    "    elif OCEL_KEY == \"hinge\":\n",
    "        from data.evaluation.src.ocel_config.hinge import *\n",
    "    else:\n",
    "        raise ValueError\n",
    "    \n",
    "    print(\"OCEL:\", OCEL_KEY)\n",
    "\n",
    "    otypes = set(ocel.otypes)\n",
    "    assert hu_otypes.isdisjoint(resource_otypes), \"HU types and Resource types are not disjoint.\"\n",
    "    assert hu_otypes.union(resource_otypes) == otypes, \"HU types and Resources do not form a complete partition.\"\n",
    "\n",
    "    # print(f\"Target object type(s): {util.set_str(target_otypes)}\")\n",
    "    print(\n",
    "        f\"HUs: {util.set_str(sorted(hu_otypes, key=lambda ot: (0, ot) if ot in target_otypes else (1, ot)))}\"\n",
    "    )\n",
    "    print(f\"Resources: {util.set_str(resource_otypes)}\", \"\\n\")\n",
    "\n",
    "    alloc = allocation.Allocator.dummy(ocel, target_otypes, hu_otypes, resource_otypes, events=1, silent=True)\n",
    "\n",
    "    OCELS[OCEL_KEY] = (ocel, alloc, hu_otypes, resource_otypes)"
   ]
  },
  {
   "cell_type": "markdown",
   "metadata": {},
   "source": [
    "# Order Management"
   ]
  },
  {
   "cell_type": "code",
   "execution_count": null,
   "metadata": {},
   "outputs": [],
   "source": [
    "ocel, alloc, hu_otypes, resource_otypes = OCELS[\"orderManagementWithDistances\"]\n",
    "OG = nx.Graph(alloc.rule.OG)\n",
    "alloc.process()"
   ]
  },
  {
   "cell_type": "markdown",
   "metadata": {},
   "source": [
    "### OTFG"
   ]
  },
  {
   "cell_type": "code",
   "execution_count": null,
   "metadata": {},
   "outputs": [],
   "source": [
    "import emissions.object_type_graphs as otg\n",
    "\n",
    "reload(otg)\n",
    "\n",
    "otg.otfg(\n",
    "    ocel,\n",
    "    alloc,\n",
    "    graph_mode=ag.GraphMode.HU_HU,\n",
    "    # graph_mode=ag.GraphMode.OBJ_OBJ,\n",
    "    remove_otype_loops=True,\n",
    ")"
   ]
  },
  {
   "cell_type": "markdown",
   "metadata": {},
   "source": [
    "### Employee emissions"
   ]
  },
  {
   "cell_type": "code",
   "execution_count": null,
   "metadata": {},
   "outputs": [],
   "source": [
    "alloc = allocation.Allocator.dummy(ocel, {\"employees\"}, hu_otypes, resource_otypes, events=1, silent=True)\n",
    "alloc.process()\n",
    "OG = alloc.rule.OG"
   ]
  },
  {
   "cell_type": "code",
   "execution_count": null,
   "metadata": {},
   "outputs": [],
   "source": [
    "empl = ocel.objects[ocel.objects[\"ocel:type\"] == \"employees\"]\n",
    "empl = empl.merge(ocel.num_events_per_object[[\"ocel:oid\", \"num_events\"]], on=\"ocel:oid\")\n",
    "empl = empl.merge(alloc.target_emissions, on=\"ocel:oid\")\n",
    "empl[\"em_per_ev\"] = empl[\"ocean:object_emissions\"] / empl[\"num_events\"]\n",
    "display(empl.sort_values(\"ocean:object_emissions\"))\n",
    "print(\"Emissions\")\n",
    "for role, em in empl.groupby(\"role\")[\"ocean:object_emissions\"].apply(pd_util.mmmmstr, unit=\"\\\\kgcotwoe\").items():\n",
    "    print(role, em)\n",
    "print(\"\\nEmissions per event\")\n",
    "for role, em in empl.groupby(\"role\")[\"em_per_ev\"].apply(pd_util.mmmmstr, unit=\"\\\\kgcotwoe\").items():\n",
    "    print(role, em)\n",
    "cv = empl[\"em_per_ev\"].std() / empl[\"em_per_ev\"].mean()\n",
    "print(f\"cv {cv}\")"
   ]
  },
  {
   "cell_type": "code",
   "execution_count": null,
   "metadata": {},
   "outputs": [],
   "source": [
    "ocel.num_events_per_object"
   ]
  },
  {
   "cell_type": "code",
   "execution_count": null,
   "metadata": {},
   "outputs": [],
   "source": [
    "(\n",
    "    empl[empl[\"role\"] == \"Warehousing\"][\"ocean:object_emissions\"].min() /\n",
    "    empl[empl[\"role\"] != \"Warehousing\"][\"ocean:object_emissions\"].max()\n",
    ")"
   ]
  },
  {
   "cell_type": "markdown",
   "metadata": {},
   "source": [
    "# P2P"
   ]
  },
  {
   "cell_type": "code",
   "execution_count": null,
   "metadata": {},
   "outputs": [],
   "source": [
    "ocel, alloc, hu_otypes, resource_otypes = OCELS[\"p2p\"]\n",
    "OG = nx.Graph(alloc.rule.OG)\n",
    "alloc.process()"
   ]
  },
  {
   "cell_type": "markdown",
   "metadata": {},
   "source": [
    "### Component sizes"
   ]
  },
  {
   "cell_type": "code",
   "execution_count": null,
   "metadata": {},
   "outputs": [],
   "source": [
    "pd.Series([len(c) for c in alloc.rule.OG.components], name=\"component_size\").pipe(pd_util.mmmmstr)"
   ]
  },
  {
   "cell_type": "code",
   "execution_count": null,
   "metadata": {},
   "outputs": [],
   "source": [
    "objs_per_comp = (\n",
    "    pd.DataFrame(enumerate(alloc.rule.OG.components), columns=[\"comp\", \"ocel:oid\"])\n",
    "    .explode(\"ocel:oid\")\n",
    "    .reset_index(drop=True)\n",
    "    .pipe(ocel.join_otype)\n",
    "    .groupby([\"comp\", \"ocel:type\"])\n",
    "    .size()\n",
    "    .unstack()\n",
    "    .fillna(0)\n",
    "    .sort_index(key=pd_util.index_order(alloc.otype_order), axis=\"columns\")\n",
    ")\n",
    "display(\n",
    "    (objs_per_comp == 0).sum()\n",
    ")\n",
    "(\n",
    "    objs_per_comp\n",
    "    .agg(pd_util.mmmm, nonzero=True, latex=False, axis=0)\n",
    "    # .rename(\"objs_per_comp\")\n",
    ")"
   ]
  },
  {
   "cell_type": "code",
   "execution_count": null,
   "metadata": {},
   "outputs": [],
   "source": [
    "import emissions.object_type_graphs as otg\n",
    "\n",
    "reload(otg)\n",
    "\n",
    "otg.otfg(\n",
    "    ocel,\n",
    "    alloc,\n",
    "    graph_mode=ag.GraphMode.HU_HU,\n",
    "    # graph_mode=ag.GraphMode.OBJ_OBJ,\n",
    "    remove_otype_loops=True,\n",
    ")"
   ]
  },
  {
   "cell_type": "markdown",
   "metadata": {},
   "source": [
    "# Hinge"
   ]
  },
  {
   "cell_type": "code",
   "execution_count": 7,
   "metadata": {},
   "outputs": [],
   "source": [
    "ocel, alloc, hu_otypes, resource_otypes = OCELS[\"hinge\"]\n",
    "OG = nx.Graph(alloc.rule.OG)"
   ]
  },
  {
   "cell_type": "code",
   "execution_count": null,
   "metadata": {},
   "outputs": [],
   "source": [
    "import emissions.object_type_graphs as otg\n",
    "\n",
    "reload(otg)\n",
    "\n",
    "otg.otfg(\n",
    "    ocel,\n",
    "    alloc,\n",
    "    node_order=[\"SteelCoil\", \"SteelSheet\", \"FormedPart\", \"FemalePart\", \"MalePart\", \"SteelPin\", \"Hinge\", \"HingePack\"],\n",
    "    graph_mode=ag.GraphMode.HU_HU,\n",
    "    # graph_mode=ag.GraphMode.OBJ_OBJ,\n",
    "    remove_otype_loops=True,\n",
    "    show_excluded_otypes=False,\n",
    ")"
   ]
  },
  {
   "cell_type": "markdown",
   "metadata": {},
   "source": [
    "### Why has the HU Graph only one component?"
   ]
  },
  {
   "cell_type": "code",
   "execution_count": null,
   "metadata": {},
   "outputs": [],
   "source": [
    "nx.set_node_attributes(OG, ocel.obj_otypes, \"otype\")\n",
    "\n",
    "# sub = nx.ego_graph(OG, n=\"o_hingepack_1\", radius=2)\n",
    "\n",
    "# GV = graph_util.nx_to_graphviz(sub, node_label=\"otype\")\n",
    "# GV.node_attr[\"shape\"] = \"rect\"\n",
    "# GV.node_attr[\"margin\"] = \"0,0\"\n",
    "# GV.node_attr[\"fontsize\"] = \"10\"\n",
    "# GV"
   ]
  },
  {
   "cell_type": "code",
   "execution_count": null,
   "metadata": {},
   "outputs": [],
   "source": [
    "ocel.otype_counts[\"HingePack\"]"
   ]
  },
  {
   "cell_type": "code",
   "execution_count": null,
   "metadata": {},
   "outputs": [],
   "source": [
    "def paths_between_otypes(OG: nx.Graph, otype1: str, otype2: str):\n",
    "    oids = list(OG.nodes())\n",
    "    sources = list(set(ocel.objects[ocel.objects[\"ocel:type\"] == otype1][\"ocel:oid\"]).intersection(oids))\n",
    "    targets = list(set(ocel.objects[ocel.objects[\"ocel:type\"] == otype2][\"ocel:oid\"]).intersection(oids))\n",
    "    return graph_util.shortest_paths_to_target(\n",
    "        OG,\n",
    "        sources=sources,\n",
    "        targets=targets,\n",
    "        nearest=True,\n",
    "        cutoff=8,\n",
    "    ).rename(columns={\"source\": otype1, \"target\": otype2})\n",
    "\n",
    "sc_h = paths_between_otypes(OG, \"SteelCoil\", \"Hinge\")\n",
    "h_hp = paths_between_otypes(OG, \"Hinge\", \"HingePack\")\n",
    "\n",
    "sc_hp = sc_h.merge(h_hp, on=\"Hinge\", suffixes=(\"_sc_h\", \"_h_hp\"))\n",
    "\n",
    "sc_hp_groups = sc_hp.groupby([\"SteelCoil\", \"HingePack\"])[\"Hinge\"].size().rename(\"num_Hinges\")\n",
    "hp_groups = sc_hp_groups.reset_index().groupby(\"HingePack\")[\"SteelCoil\"].agg(tuple).rename(\"SteelCoils\")\n",
    "sc_hp_stats = (\n",
    "    sc_hp_groups.to_frame()\n",
    "    .join(hp_groups, on=\"HingePack\")\n",
    "    .reset_index()\n",
    "    .groupby([\"SteelCoil\", \"SteelCoils\"])\n",
    "    .agg({\"HingePack\": \"count\", \"num_Hinges\": \"sum\"})\n",
    "    .rename(columns={\"HingePack\": \"num_HingePacks\"})\n",
    "    .reset_index()\n",
    ")\n",
    "\n",
    "GV = gv.Graph()\n",
    "\n",
    "tikz = []\n",
    "tikz_nodes = {}\n",
    "\n",
    "total_num_scs = ocel.otype_counts[\"SteelCoil\"]\n",
    "total_num_hps = ocel.otype_counts[\"HingePack\"]\n",
    "total_num_hinges = ocel.otype_counts[\"Hinge\"]\n",
    "\n",
    "fig_width = 10\n",
    "\n",
    "x = 0\n",
    "for i, sc in enumerate(sorted(set(sc_hp[\"SteelCoil\"]))):\n",
    "    GV.node(sc, shape=\"rect\")\n",
    "    tikz_nodes[sc] = f\"SteelCoil{i}\"\n",
    "    width = (1 / total_num_scs) * fig_width\n",
    "    tikz.append(f\"\\\\node[minimum width={width:.3f}cm] at ({x:.3f}cm, 4cm) ({tikz_nodes[sc]}) {{}};\")\n",
    "    # else:\n",
    "    #     before = list(tikz_nodes.values())[-2]\n",
    "    #     tikz.append(f\"\\\\node[inner sep=0,minimum width={width:.3}cm,right=0cm of {before}] ({tikz_nodes[sc]}) {{}};\")\n",
    "    x += width\n",
    "\n",
    "x = 0\n",
    "for i, (scs, num_hps) in enumerate(sc_hp_stats.groupby(\"SteelCoils\")[\"num_HingePacks\"].sum().items()):\n",
    "    hps_node = f\"{scs}_HingePacks\"\n",
    "    GV.node(hps_node, label=f\"{num_hps} HingePacks\", shape=\"rect\", margin=\"0,0\")\n",
    "    tikz_nodes[hps_node] = f\"HingePacks{i}\"\n",
    "    width = (num_hps / total_num_hps) * fig_width\n",
    "    tikz.append(f\"\\\\node[minimum width={width:.3f}cm] at ({x:.3f}cm, 0cm) ({tikz_nodes[hps_node]}) {{}};\")\n",
    "    # else:\n",
    "    #     before = list(tikz_nodes.values())[-2]\n",
    "    #     tikz.append(f\"\\\\node[inner sep=0,minimum width={width:.3}cm,right=0cm of {before}] ({tikz_nodes[hps_node]}) {{}};\")\n",
    "    x += width\n",
    "\n",
    "x = 0\n",
    "for i, row in sc_hp_stats.iterrows():\n",
    "    sc = row[\"SteelCoil\"]\n",
    "    scs = row[\"SteelCoils\"]\n",
    "    num_hinges = row[\"num_Hinges\"]\n",
    "    hps_node = f\"{scs}_HingePacks\"\n",
    "\n",
    "    hinges_node = f\"{sc}_{i}_Hinges\"\n",
    "    GV.node(hinges_node, label=f\"{num_hinges} Hinges\", shape=\"rect\", margin=\"0,0\")\n",
    "    GV.edge(sc, hinges_node)\n",
    "    GV.edge(hinges_node, hps_node)\n",
    "\n",
    "    tikz_nodes[hinges_node] = f\"Hinges{i}\"\n",
    "    width = (num_hinges / total_num_hinges) * fig_width\n",
    "    tikz.append(f\"\\\\node[minimum width={width:.3f}cm] at ({x:.3f}cm, 2cm) ({tikz_nodes[hinges_node]}) {{}};\")\n",
    "    # else: hallo raimund :) i can see what you are doing lol\n",
    "    #     before = list(tikz_nodes.values())[-2]\n",
    "    #     tikz.append(f\"\\\\node[inner sep=0,minimum width={width:.3}cm,right=0cm of {before}] ({tikz_nodes[hinges_node]}) {{}};\")\n",
    "    x += width\n",
    "    tikz.append(f\"\\\\draw ({tikz_nodes[sc]}) edge ({tikz_nodes[hinges_node]});\")\n",
    "    tikz.append(f\"\\\\draw ({tikz_nodes[hinges_node]}) edge ({tikz_nodes[hps_node]});\")\n",
    "\n",
    "# for line in tikz:\n",
    "#     print(line)\n",
    "\n",
    "GV"
   ]
  }
 ],
 "metadata": {
  "kernelspec": {
   "display_name": ".venv",
   "language": "python",
   "name": "python3"
  },
  "language_info": {
   "codemirror_mode": {
    "name": "ipython",
    "version": 3
   },
   "file_extension": ".py",
   "mimetype": "text/x-python",
   "name": "python",
   "nbconvert_exporter": "python",
   "pygments_lexer": "ipython3",
   "version": "3.10.4"
  }
 },
 "nbformat": 4,
 "nbformat_minor": 2
}
