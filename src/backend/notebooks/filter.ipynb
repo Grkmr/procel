{
 "cells": [
  {
   "cell_type": "code",
   "execution_count": 38,
   "id": "b9aee181-b1af-49bb-b32b-b87e2152a66d",
   "metadata": {},
   "outputs": [],
   "source": [
    "import pm4py\n",
    "from pm4py.objects.ocel.obj import OCEL\n",
    "from typing import Optional\n",
    "import pandas as pd"
   ]
  },
  {
   "cell_type": "code",
   "execution_count": 39,
   "id": "c540bb12-f166-4c7c-90ca-db8b84a57bd8",
   "metadata": {
    "scrolled": true
   },
   "outputs": [
    {
     "name": "stderr",
     "output_type": "stream",
     "text": [
      "/home/grkmr/.cache/pypoetry/virtualenvs/ocean-backend-6RZTwyJ5-py3.10/lib/python3.10/site-packages/pm4py/objects/ocel/importer/sqlite/variants/ocel20.py:70: UserWarning: There are unsatisfied OCEL 2.0 constraints in the given relational database: ['const_12_existence_type_ocel_time_obj_type_spec_tables', 'const_14_primary_key_object_event_map_type_tables', 'const_15_primary_key_object_event_tables', 'const_16_primary_key_event_object_table', 'const_17_primary_key_object_object_table', 'const_18_primary_key_event_type_spec_tables', 'const_19_foreign_key_event', 'const_20_foreign_key_object', 'const_21_foreign_key_event_object', 'const_22_foreign_key_object_object', 'const_23_foreign_key_event_type_specific', 'const_24_foreign_key_object_type_specific']\n",
      "  warnings.warn(\"There are unsatisfied OCEL 2.0 constraints in the given relational database: \"+str(unsatisfied))\n",
      "/home/grkmr/.cache/pypoetry/virtualenvs/ocean-backend-6RZTwyJ5-py3.10/lib/python3.10/site-packages/pm4py/objects/log/util/dataframe_utils.py:186: SettingWithCopyWarning: \n",
      "A value is trying to be set on a copy of a slice from a DataFrame.\n",
      "Try using .loc[row_indexer,col_indexer] = value instead\n",
      "\n",
      "See the caveats in the documentation: https://pandas.pydata.org/pandas-docs/stable/user_guide/indexing.html#returning-a-view-versus-a-copy\n",
      "  df[col] = pandas_utils.dataframe_column_string_to_datetime(df[col], format=timest_format, utc=True)\n",
      "/home/grkmr/.cache/pypoetry/virtualenvs/ocean-backend-6RZTwyJ5-py3.10/lib/python3.10/site-packages/pm4py/objects/log/util/dataframe_utils.py:198: SettingWithCopyWarning: \n",
      "A value is trying to be set on a copy of a slice from a DataFrame.\n",
      "Try using .loc[row_indexer,col_indexer] = value instead\n",
      "\n",
      "See the caveats in the documentation: https://pandas.pydata.org/pandas-docs/stable/user_guide/indexing.html#returning-a-view-versus-a-copy\n",
      "  df[col] = strpfromiso.fix_dataframe_column(df[col])\n",
      "/home/grkmr/.cache/pypoetry/virtualenvs/ocean-backend-6RZTwyJ5-py3.10/lib/python3.10/site-packages/pm4py/objects/ocel/importer/sqlite/variants/ocel20.py:160: SettingWithCopyWarning: \n",
      "A value is trying to be set on a copy of a slice from a DataFrame.\n",
      "Try using .loc[row_indexer,col_indexer] = value instead\n",
      "\n",
      "See the caveats in the documentation: https://pandas.pydata.org/pandas-docs/stable/user_guide/indexing.html#returning-a-view-versus-a-copy\n",
      "  object_changes[internal_index] = object_changes.index\n",
      "/home/grkmr/.cache/pypoetry/virtualenvs/ocean-backend-6RZTwyJ5-py3.10/lib/python3.10/site-packages/pm4py/objects/ocel/util/ocel_consistency.py:53: SettingWithCopyWarning: \n",
      "A value is trying to be set on a copy of a slice from a DataFrame.\n",
      "Try using .loc[row_indexer,col_indexer] = value instead\n",
      "\n",
      "See the caveats in the documentation: https://pandas.pydata.org/pandas-docs/stable/user_guide/indexing.html#returning-a-view-versus-a-copy\n",
      "  df[tfields] = df[tfields].astype(\"string\")\n"
     ]
    }
   ],
   "source": [
    "ocel = pm4py.read_ocel2_sqlite(\"../data/event_logs/socel_hinge.sqlite\")"
   ]
  },
  {
   "cell_type": "markdown",
   "id": "910ca6ab-3824-4f7d-bf41-16a0271d79f1",
   "metadata": {},
   "source": [
    "# Filter"
   ]
  },
  {
   "cell_type": "markdown",
   "id": "badf83e1-8387-4874-9a9d-174d5b9d1c80",
   "metadata": {},
   "source": [
    "## Events"
   ]
  },
  {
   "cell_type": "markdown",
   "id": "fa6251f9-1e50-438e-bcd7-40792761801f",
   "metadata": {},
   "source": [
    "### Filter by activity name"
   ]
  },
  {
   "cell_type": "code",
   "execution_count": 78,
   "id": "f15cd6dc-c6f1-403b-b332-5f68045986b0",
   "metadata": {},
   "outputs": [],
   "source": [
    "def filter_by_event_types(ocel:OCEL,event_types:list[str],include:bool=True):\n",
    "    eventMask = ocel.events[ocel.event_activity].isin(event_types)\n",
    "    return eventMask if include else ~eventMask"
   ]
  },
  {
   "cell_type": "markdown",
   "id": "ce5a93c2-1c83-4e2b-8eaf-58243f87f913",
   "metadata": {},
   "source": [
    "### Filter by time range"
   ]
  },
  {
   "cell_type": "code",
   "execution_count": 79,
   "id": "ddfde851-dd67-46b9-bc7a-14ece265bf64",
   "metadata": {},
   "outputs": [],
   "source": [
    "def filter_by_time_range(ocel:OCEL,start_time:Optional[str]=None, end_time:Optional[str]=None , include:bool=True):\n",
    "    if start_time is not None:\n",
    "        start_time = pd.Timestamp(start_time, tz=\"UTC\")\n",
    "    if end_time is not None:\n",
    "        end_time = pd.Timestamp(end_time, tz=\"UTC\")\n",
    "    \n",
    "    events_df = ocel.events\n",
    "\n",
    "    mask = pd.Series([True] * len(events_df), index=events_df.index)\n",
    "    if start_time is not None:\n",
    "        mask &= events_df[\"ocel:timestamp\"] >= start_time\n",
    "    if end_time is not None:\n",
    "        mask &= events_df[\"ocel:timestamp\"] <= end_time\n",
    "\n",
    "    return mask if include else ~mask"
   ]
  },
  {
   "cell_type": "markdown",
   "id": "91c68867-8238-4645-8a9c-d4dea6c6e389",
   "metadata": {},
   "source": [
    "### Filter by activity frequencies"
   ]
  },
  {
   "cell_type": "code",
   "execution_count": 80,
   "id": "4441a17f-2749-463a-b67a-04b6424a8516",
   "metadata": {},
   "outputs": [],
   "source": [
    "def filter_by_activity_frequency(ocel:OCEL, threshold:int):\n",
    "    cumulative_freq = ocel.events.value_counts(ocel.event_activity, normalize=True).cumsum()\n",
    "    included_activities = cumulative_freq[cumulative_freq <= threshold].index\n",
    "    return filter_by_event_types(ocel, included_activities)"
   ]
  },
  {
   "cell_type": "markdown",
   "id": "89bc0a11-ab4c-4d3c-b224-9db5b2571222",
   "metadata": {},
   "source": [
    "## Objects"
   ]
  },
  {
   "cell_type": "code",
   "execution_count": 81,
   "id": "eaf06182-8924-4324-b908-b9f23c013ef3",
   "metadata": {},
   "outputs": [],
   "source": [
    "### Filter"
   ]
  },
  {
   "cell_type": "code",
   "execution_count": null,
   "id": "920bf12e-3255-485a-b20c-14a038ec835c",
   "metadata": {},
   "outputs": [],
   "source": []
  }
 ],
 "metadata": {
  "kernelspec": {
   "display_name": "Python 3 (ipykernel)",
   "language": "python",
   "name": "python3"
  },
  "language_info": {
   "codemirror_mode": {
    "name": "ipython",
    "version": 3
   },
   "file_extension": ".py",
   "mimetype": "text/x-python",
   "name": "python",
   "nbconvert_exporter": "python",
   "pygments_lexer": "ipython3",
   "version": "3.10.16"
  }
 },
 "nbformat": 4,
 "nbformat_minor": 5
}
